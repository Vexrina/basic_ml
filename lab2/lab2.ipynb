{
 "cells": [
  {
   "cell_type": "code",
   "execution_count": 33,
   "metadata": {},
   "outputs": [],
   "source": [
    "import pandas as pd"
   ]
  },
  {
   "cell_type": "code",
   "execution_count": 34,
   "metadata": {},
   "outputs": [],
   "source": [
    "# xls = pd.ExcelFile('Online Retail.xlsx')\n",
    "# df1 = pd.read_excel(xls)\n",
    "# df1.to_csv('dataset.csv')"
   ]
  },
  {
   "cell_type": "code",
   "execution_count": 35,
   "metadata": {},
   "outputs": [
    {
     "data": {
      "text/html": [
       "<div>\n",
       "<style scoped>\n",
       "    .dataframe tbody tr th:only-of-type {\n",
       "        vertical-align: middle;\n",
       "    }\n",
       "\n",
       "    .dataframe tbody tr th {\n",
       "        vertical-align: top;\n",
       "    }\n",
       "\n",
       "    .dataframe thead th {\n",
       "        text-align: right;\n",
       "    }\n",
       "</style>\n",
       "<table border=\"1\" class=\"dataframe\">\n",
       "  <thead>\n",
       "    <tr style=\"text-align: right;\">\n",
       "      <th></th>\n",
       "      <th>Unnamed: 0</th>\n",
       "      <th>InvoiceNo</th>\n",
       "      <th>StockCode</th>\n",
       "      <th>Description</th>\n",
       "      <th>Quantity</th>\n",
       "      <th>InvoiceDate</th>\n",
       "      <th>UnitPrice</th>\n",
       "      <th>CustomerID</th>\n",
       "      <th>Country</th>\n",
       "    </tr>\n",
       "  </thead>\n",
       "  <tbody>\n",
       "    <tr>\n",
       "      <th>0</th>\n",
       "      <td>0</td>\n",
       "      <td>536365</td>\n",
       "      <td>85123A</td>\n",
       "      <td>WHITE HANGING HEART T-LIGHT HOLDER</td>\n",
       "      <td>6</td>\n",
       "      <td>2010-12-01 08:26:00</td>\n",
       "      <td>2.55</td>\n",
       "      <td>17850.0</td>\n",
       "      <td>United Kingdom</td>\n",
       "    </tr>\n",
       "    <tr>\n",
       "      <th>1</th>\n",
       "      <td>1</td>\n",
       "      <td>536365</td>\n",
       "      <td>71053</td>\n",
       "      <td>WHITE METAL LANTERN</td>\n",
       "      <td>6</td>\n",
       "      <td>2010-12-01 08:26:00</td>\n",
       "      <td>3.39</td>\n",
       "      <td>17850.0</td>\n",
       "      <td>United Kingdom</td>\n",
       "    </tr>\n",
       "    <tr>\n",
       "      <th>2</th>\n",
       "      <td>2</td>\n",
       "      <td>536365</td>\n",
       "      <td>84406B</td>\n",
       "      <td>CREAM CUPID HEARTS COAT HANGER</td>\n",
       "      <td>8</td>\n",
       "      <td>2010-12-01 08:26:00</td>\n",
       "      <td>2.75</td>\n",
       "      <td>17850.0</td>\n",
       "      <td>United Kingdom</td>\n",
       "    </tr>\n",
       "    <tr>\n",
       "      <th>3</th>\n",
       "      <td>3</td>\n",
       "      <td>536365</td>\n",
       "      <td>84029G</td>\n",
       "      <td>KNITTED UNION FLAG HOT WATER BOTTLE</td>\n",
       "      <td>6</td>\n",
       "      <td>2010-12-01 08:26:00</td>\n",
       "      <td>3.39</td>\n",
       "      <td>17850.0</td>\n",
       "      <td>United Kingdom</td>\n",
       "    </tr>\n",
       "    <tr>\n",
       "      <th>4</th>\n",
       "      <td>4</td>\n",
       "      <td>536365</td>\n",
       "      <td>84029E</td>\n",
       "      <td>RED WOOLLY HOTTIE WHITE HEART.</td>\n",
       "      <td>6</td>\n",
       "      <td>2010-12-01 08:26:00</td>\n",
       "      <td>3.39</td>\n",
       "      <td>17850.0</td>\n",
       "      <td>United Kingdom</td>\n",
       "    </tr>\n",
       "  </tbody>\n",
       "</table>\n",
       "</div>"
      ],
      "text/plain": [
       "   Unnamed: 0 InvoiceNo StockCode                          Description  \\\n",
       "0           0    536365    85123A   WHITE HANGING HEART T-LIGHT HOLDER   \n",
       "1           1    536365     71053                  WHITE METAL LANTERN   \n",
       "2           2    536365    84406B       CREAM CUPID HEARTS COAT HANGER   \n",
       "3           3    536365    84029G  KNITTED UNION FLAG HOT WATER BOTTLE   \n",
       "4           4    536365    84029E       RED WOOLLY HOTTIE WHITE HEART.   \n",
       "\n",
       "   Quantity          InvoiceDate  UnitPrice  CustomerID         Country  \n",
       "0         6  2010-12-01 08:26:00       2.55     17850.0  United Kingdom  \n",
       "1         6  2010-12-01 08:26:00       3.39     17850.0  United Kingdom  \n",
       "2         8  2010-12-01 08:26:00       2.75     17850.0  United Kingdom  \n",
       "3         6  2010-12-01 08:26:00       3.39     17850.0  United Kingdom  \n",
       "4         6  2010-12-01 08:26:00       3.39     17850.0  United Kingdom  "
      ]
     },
     "execution_count": 35,
     "metadata": {},
     "output_type": "execute_result"
    }
   ],
   "source": [
    "df = pd.read_csv('dataset.csv')\n",
    "df.head()"
   ]
  },
  {
   "cell_type": "code",
   "execution_count": 36,
   "metadata": {},
   "outputs": [
    {
     "data": {
      "text/plain": [
       "Unnamed: 0          0\n",
       "InvoiceNo           0\n",
       "StockCode           0\n",
       "Description      1454\n",
       "Quantity            0\n",
       "InvoiceDate         0\n",
       "UnitPrice           0\n",
       "CustomerID     135080\n",
       "Country             0\n",
       "dtype: int64"
      ]
     },
     "execution_count": 36,
     "metadata": {},
     "output_type": "execute_result"
    }
   ],
   "source": [
    "df.isna().sum()"
   ]
  },
  {
   "cell_type": "code",
   "execution_count": 37,
   "metadata": {},
   "outputs": [],
   "source": [
    "df = df.drop(columns=['Unnamed: 0','CustomerID'])"
   ]
  },
  {
   "cell_type": "code",
   "execution_count": 38,
   "metadata": {},
   "outputs": [
    {
     "data": {
      "text/plain": [
       "InvoiceNo      0\n",
       "StockCode      0\n",
       "Description    0\n",
       "Quantity       0\n",
       "InvoiceDate    0\n",
       "UnitPrice      0\n",
       "Country        0\n",
       "dtype: int64"
      ]
     },
     "execution_count": 38,
     "metadata": {},
     "output_type": "execute_result"
    }
   ],
   "source": [
    "df.fillna(\"\", inplace=True)\n",
    "df.isna().sum()"
   ]
  },
  {
   "cell_type": "code",
   "execution_count": null,
   "metadata": {},
   "outputs": [],
   "source": [
    "# Группируем товары по транзакциям\n",
    "transactions = df.groupby('InvoiceNo')['Description'].apply(lambda x: set(x)).tolist()\n"
   ]
  },
  {
   "cell_type": "code",
   "execution_count": 40,
   "metadata": {},
   "outputs": [
    {
     "name": "stdout",
     "output_type": "stream",
     "text": [
      "Всего транзакций: 25900\n",
      "Пример транзакций:\n",
      "Транзакция 1: {'WHITE METAL LANTERN', 'WHITE HANGING HEART T-LIGHT HOLDER', 'SET 7 BABUSHKA NESTING BOXES', 'CREAM CUPID HEARTS COAT HANGER', 'RED WOOLLY HOTTIE WHITE HEART.', 'GLASS STAR FROSTED T-LIGHT HOLDER', 'KNITTED UNION FLAG HOT WATER BOTTLE'}\n",
      "Транзакция 2: {'HAND WARMER RED POLKA DOT', 'HAND WARMER UNION JACK'}\n",
      "Транзакция 3: {'IVORY KNITTED MUG COSY ', 'BOX OF VINTAGE ALPHABET BLOCKS', \"POPPY'S PLAYHOUSE KITCHEN\", 'LOVE BUILDING BLOCK WORD', \"POPPY'S PLAYHOUSE BEDROOM \", 'FELTCRAFT PRINCESS CHARLOTTE DOLL', 'DOORMAT NEW ENGLAND', 'BOX OF 6 ASSORTED COLOUR TEASPOONS', 'HOME BUILDING BLOCK WORD', 'BOX OF VINTAGE JIGSAW BLOCKS ', 'RECIPE BOX WITH METAL HEART', 'ASSORTED COLOUR BIRD ORNAMENT'}\n",
      "Транзакция 4: {'BLUE COAT RACK PARIS FASHION', 'YELLOW COAT RACK PARIS FASHION', 'JAM MAKING SET WITH JARS', 'RED COAT RACK PARIS FASHION'}\n",
      "Транзакция 5: {'BATH BUILDING BLOCK WORD'}\n"
     ]
    }
   ],
   "source": [
    "# Проверка данных\n",
    "print(f\"Всего транзакций: {len(transactions)}\")\n",
    "print(\"Пример транзакций:\")\n",
    "for i, transaction in enumerate(transactions[:5]):\n",
    "    print(f\"Транзакция {i + 1}: {transaction}\")"
   ]
  },
  {
   "cell_type": "markdown",
   "metadata": {},
   "source": [
    "как работает априори?\n",
    "\n",
    "1. Генерируем кандидатов длины 1\n",
    "    - найти все уникальные\n",
    "    - для каждого вычислить поддержку\n",
    "    - отобрать, где поддержка > минсуппорт\n",
    "2. генерируем кандидатов длины  k>1\n",
    "    - на основе часто встречающихся k-1 генерируем кандидатов длины k\n",
    "    - обхединяем наборы длин k-1 и k-2\n",
    "    - {A, B} и {A, C} -> {A,B,C}\n",
    "3. проверяем поддержку кандидатов k\n",
    "4. повторить пока не найдем все"
   ]
  },
  {
   "cell_type": "code",
   "execution_count": 41,
   "metadata": {},
   "outputs": [],
   "source": [
    "class AprioriMyself:\n",
    "    def __init__(self, dataset, min_support):\n",
    "        self.dataset = dataset\n",
    "        self.min_support = min_support\n",
    "        self.frequent_itemsets = []\n",
    "\n",
    "    def _generate_candidates(self, itemsets, length):\n",
    "        \"\"\"Генерация кандидатов длины length.\"\"\"\n",
    "        candidates = set()\n",
    "        for itemset1 in itemsets:\n",
    "            for itemset2 in itemsets:\n",
    "                union = itemset1.union(itemset2)\n",
    "                if len(union) == length:\n",
    "                    candidates.add(union)\n",
    "        return candidates\n",
    "\n",
    "    def fit(self, debug:bool=False):\n",
    "        \"\"\"Обучение модели и поиск часто встречающихся наборов.\"\"\"\n",
    "        items = set()\n",
    "        for transaction in self.dataset:\n",
    "            items.update(transaction)\n",
    "\n",
    "        length = 1\n",
    "        candidates = [frozenset([item]) for item in items]\n",
    "\n",
    "        while candidates:\n",
    "            if debug:\n",
    "                print(f\"Текущая длина кандидатов: {length}\")\n",
    "                print(f\"Количество кандидатов: {len(candidates)}\")\n",
    "\n",
    "            candidate_counts = np.zeros(len(candidates))\n",
    "            for transaction in self.dataset:\n",
    "                for i, candidate in enumerate(candidates):\n",
    "                    if candidate.issubset(transaction):\n",
    "                        candidate_counts[i] += 1\n",
    "\n",
    "            frequent_candidates = [\n",
    "                candidate for i, candidate in enumerate(candidates)\n",
    "                if candidate_counts[i] / len(self.dataset) >= self.min_support\n",
    "            ]\n",
    "            if debug:\n",
    "                print(f\"Найдено {len(frequent_candidates)} часто встречающихся наборов длины {length}.\")\n",
    "\n",
    "            self.frequent_itemsets.extend(frequent_candidates)\n",
    "            candidates = list(self._generate_candidates(frequent_candidates, length + 1))\n",
    "            length += 1\n",
    "\n",
    "    def get_frequent_itemsets(self):\n",
    "        \"\"\"Возвращает часто встречающиеся наборы.\"\"\"\n",
    "        return self.frequent_itemsets"
   ]
  },
  {
   "cell_type": "code",
   "execution_count": 42,
   "metadata": {},
   "outputs": [
    {
     "name": "stdout",
     "output_type": "stream",
     "text": [
      "Текущая длина кандидатов: 1\n",
      "Количество кандидатов: 23\n",
      "Найдено 0 часто встречающихся наборов длины 1.\n",
      "Часто встречающиеся наборы (Apriori): []\n"
     ]
    }
   ],
   "source": [
    "apriori_model = AprioriMyself(df, min_support=0.001)\n",
    "apriori_model.fit(True)\n",
    "print(\"Часто встречающиеся наборы (Apriori):\", apriori_model.get_frequent_itemsets())"
   ]
  },
  {
   "cell_type": "code",
   "execution_count": 45,
   "metadata": {},
   "outputs": [
    {
     "name": "stdout",
     "output_type": "stream",
     "text": [
      "       support                                           itemsets\n",
      "0     0.056139                                                 ()\n",
      "1     0.010502                 ( SET 2 TEA TOWELS I LOVE LONDON )\n",
      "2     0.012587                           (10 COLOUR SPACEBOY PEN)\n",
      "3     0.013784                    (12 PENCIL SMALL TUBE WOODLAND)\n",
      "4     0.014131              (12 PENCILS SMALL TUBE RED RETROSPOT)\n",
      "...        ...                                                ...\n",
      "1034  0.012664  (RED RETROSPOT CHARLOTTE BAG, STRAWBERRY CHARL...\n",
      "1035  0.010232  (SET/20 RED RETROSPOT PAPER NAPKINS , SET/6 RE...\n",
      "1036  0.010077  (CHARLOTTE BAG SUKI DESIGN, RED RETROSPOT CHAR...\n",
      "1037  0.011699  (GREEN REGENCY TEACUP AND SAUCER, REGENCY CAKE...\n",
      "1038  0.010386  (JUMBO SHOPPER VINTAGE RED PAISLEY, JUMBO BAG ...\n",
      "\n",
      "[1039 rows x 2 columns]\n"
     ]
    }
   ],
   "source": [
    "from mlxtend.frequent_patterns import apriori\n",
    "from mlxtend.preprocessing import TransactionEncoder\n",
    "\n",
    "# Преобразуем данные в бинарный формат\n",
    "te = TransactionEncoder()\n",
    "te_ary = te.fit(transactions).transform(transactions)\n",
    "df = pd.DataFrame(te_ary, columns=te.columns_)\n",
    "\n",
    "# Запуск Apriori\n",
    "frequent_itemsets = apriori(df, min_support=0.01, use_colnames=True)\n",
    "print(frequent_itemsets)"
   ]
  },
  {
   "cell_type": "markdown",
   "metadata": {},
   "source": [
    "Основные шаги алгоритма FP-Growth:\n",
    "\n",
    "1. Построение FP-дерева (Frequent Pattern Tree):\n",
    "    - Первый проход по данным: \n",
    "        - алгоритм проходит по всему датасету и подсчитывает частоту каждого элемента.\n",
    "        - элементы, которые встречаются реже, чем заданный minsupport, удаляются, а оставшиеся сортируются в порядке убывания частоты.\n",
    "    - Второй проход по данным: \n",
    "        - Каждая транзакция из базы данных преобразуется в путь в дереве, начиная с корня. \n",
    "        - Узлы дерева представляют элементы, а пути от корня до узлов представляют наборы элементов, которые встречаются вместе в транзакциях. \n",
    "        - Если несколько транзакций содержат одинаковые наборы элементов, то соответствующие узлы объединяются, и их счетчики увеличиваются.\n",
    "\n",
    "2. Извлечение частых наборов:\n",
    "   - алгоритм извлекает частые наборы элементов, используя дерево. Это делается путем \"роста\" частых паттернов из листьев к корню дерева, используя conditional FP-trees, которые строятся для каждого элемента, начиная с наименее частых.\n",
    "   - для каждого элемента, алгоритм строит его условное FP-дерево, которое содержит только те элементы, которые встречаются вместе с данным элементом. \n",
    "   - из этого дерева извлекаются все возможные комбинации элементов, которые образуют частые наборы."
   ]
  },
  {
   "cell_type": "code",
   "execution_count": 46,
   "metadata": {},
   "outputs": [
    {
     "name": "stdout",
     "output_type": "stream",
     "text": [
      "Часто встречающиеся наборы (FP-Growth): []\n"
     ]
    }
   ],
   "source": [
    "class FPGrowthMyself:\n",
    "    def __init__(self, dataset, min_support):\n",
    "        \"\"\"\n",
    "        Инициализация класса FPGrowthMyself.\n",
    "\n",
    "        :param dataset: Входные данные (список транзакций, где каждая транзакция — это набор элементов).\n",
    "        :param min_support: Минимальная поддержка (число от 0 до 1).\n",
    "        \"\"\"\n",
    "        self.dataset = dataset\n",
    "        self.min_support = min_support\n",
    "        self.frequent_itemsets = []\n",
    "\n",
    "    class FPTreeNode:\n",
    "        \"\"\"Вспомогательный класс для узла FP-Tree.\"\"\"\n",
    "        def init(self, item, count, parent):\n",
    "            self.item = item\n",
    "            self.count = count\n",
    "            self.parent = parent\n",
    "            self.children = {}\n",
    "            self.next = None\n",
    "\n",
    "    def _build_fp_tree(self):\n",
    "        \"\"\"Построение FP-Tree.\"\"\"\n",
    "        item_counts = {}\n",
    "        for transaction in self.dataset:\n",
    "            for item in transaction:\n",
    "                item_counts[item] = item_counts.get(item, 0) + 1\n",
    "\n",
    "        self.frequent_items = {item for item, count in item_counts.items() if count / len(self.dataset) >= self.min_support}\n",
    "\n",
    "        if not self.frequent_items:\n",
    "            return None, None\n",
    "\n",
    "        root = self.FPTreeNode(None, None, None)\n",
    "        header_table = {}\n",
    "\n",
    "        for transaction in self.dataset:\n",
    "            filtered_items = [item for item in transaction if item in self.frequent_items]\n",
    "            filtered_items.sort(key=lambda x: item_counts[x], reverse=True)\n",
    "\n",
    "            current_node = root\n",
    "            for item in filtered_items:\n",
    "                if item in current_node.children:\n",
    "                    current_node = current_node.children[item]\n",
    "                    current_node.count += 1\n",
    "                else:\n",
    "                    new_node = self.FPTreeNode(item, 1, current_node)\n",
    "                    current_node.children[item] = new_node\n",
    "                    current_node = new_node\n",
    "\n",
    "                    if item in header_table:\n",
    "                        last_node = header_table[item]\n",
    "                        while last_node.next:\n",
    "                            last_node = last_node.next\n",
    "                        last_node.next = new_node\n",
    "                    else:\n",
    "                        header_table[item] = new_node\n",
    "\n",
    "        return root, header_table\n",
    "\n",
    "    def _mine_fp_tree(self, header_table, prefix):\n",
    "        \"\"\"Рекурсивный поиск часто встречающихся наборов.\"\"\"\n",
    "        for item in header_table:\n",
    "            new_prefix = prefix.copy()\n",
    "            new_prefix.add(item)\n",
    "            self.frequent_itemsets.append(new_prefix)\n",
    "\n",
    "            conditional_pattern_base = []\n",
    "            node = header_table[item]\n",
    "            while node:\n",
    "                path = []\n",
    "                parent = node.parent\n",
    "                while parent.item:\n",
    "                    path.append(parent.item)\n",
    "                    parent = parent.parent\n",
    "                if path:\n",
    "                    conditional_pattern_base.append((path, node.count))\n",
    "                node = node.next\n",
    "\n",
    "            conditional_tree, conditional_header = self._build_fp_tree([pattern for pattern, count in conditional_pattern_base for _ in range(count)])\n",
    "            if conditional_header:\n",
    "                self._mine_fp_tree(conditional_header, new_prefix)\n",
    "\n",
    "    def fit(self):\n",
    "        \"\"\"Обучение модели и поиск часто встречающихся наборов.\"\"\"\n",
    "        root, header_table = self._build_fp_tree()\n",
    "        if header_table:\n",
    "            self._mine_fp_tree(header_table, set())\n",
    "\n",
    "    def get_frequent_itemsets(self):\n",
    "        \"\"\"Возвращает часто встречающиеся наборы.\"\"\"\n",
    "        return self.frequent_itemsets\n",
    "\n",
    "# Пример использования\n",
    "fp_growth_model = FPGrowthMyself(transactions, min_support=0.3)\n",
    "fp_growth_model.fit()\n",
    "print(\"Часто встречающиеся наборы (FP-Growth):\", fp_growth_model.get_frequent_itemsets())"
   ]
  },
  {
   "cell_type": "code",
   "execution_count": 47,
   "metadata": {},
   "outputs": [
    {
     "name": "stdout",
     "output_type": "stream",
     "text": [
      "       support                                           itemsets\n",
      "0     0.088880               (WHITE HANGING HEART T-LIGHT HOLDER)\n",
      "1     0.017876              (KNITTED UNION FLAG HOT WATER BOTTLE)\n",
      "2     0.016795                   (RED WOOLLY HOTTIE WHITE HEART.)\n",
      "3     0.014865                     (SET 7 BABUSHKA NESTING BOXES)\n",
      "4     0.012201                              (WHITE METAL LANTERN)\n",
      "...        ...                                                ...\n",
      "1034  0.013900  (JUMBO BAG VINTAGE DOILY , JUMBO BAG RED RETRO...\n",
      "1035  0.010927  (JUMBO BAG VINTAGE DOILY , JUMBO BAG VINTAGE L...\n",
      "1036  0.010772  (LUNCH BAG VINTAGE DOILY , LUNCH BAG RED RETRO...\n",
      "1037  0.010541  (JUMBO BAG VINTAGE DOILY , LUNCH BAG VINTAGE D...\n",
      "1038  0.010463  (CHOCOLATE HOT WATER BOTTLE, HOT WATER BOTTLE ...\n",
      "\n",
      "[1039 rows x 2 columns]\n"
     ]
    }
   ],
   "source": [
    "from mlxtend.frequent_patterns import fpgrowth\n",
    "from mlxtend.preprocessing import TransactionEncoder\n",
    "\n",
    "# Запуск Apriori\n",
    "frequent_itemsets = fpgrowth(df, min_support=0.01, use_colnames=True)\n",
    "print(frequent_itemsets)"
   ]
  },
  {
   "cell_type": "code",
   "execution_count": null,
   "metadata": {},
   "outputs": [],
   "source": []
  }
 ],
 "metadata": {
  "kernelspec": {
   "display_name": "env",
   "language": "python",
   "name": "python3"
  },
  "language_info": {
   "codemirror_mode": {
    "name": "ipython",
    "version": 3
   },
   "file_extension": ".py",
   "mimetype": "text/x-python",
   "name": "python",
   "nbconvert_exporter": "python",
   "pygments_lexer": "ipython3",
   "version": "3.13.2"
  }
 },
 "nbformat": 4,
 "nbformat_minor": 2
}
